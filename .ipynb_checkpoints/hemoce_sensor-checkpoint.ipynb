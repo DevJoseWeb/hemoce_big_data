{
 "cells": [
  {
   "cell_type": "code",
   "execution_count": 42,
   "metadata": {},
   "outputs": [
    {
     "ename": "NameError",
     "evalue": "name 'TimeType' is not defined",
     "output_type": "error",
     "traceback": [
      "\u001b[0;31m---------------------------------------------------------------------------\u001b[0m",
      "\u001b[0;31mNameError\u001b[0m                                 Traceback (most recent call last)",
      "\u001b[0;32m<ipython-input-42-a77d8bdfb4dd>\u001b[0m in \u001b[0;36m<module>\u001b[0;34m\u001b[0m\n\u001b[1;32m     12\u001b[0m         \u001b[0mStructField\u001b[0m\u001b[0;34m(\u001b[0m\u001b[0;34m\"latitude\"\u001b[0m\u001b[0;34m,\u001b[0m \u001b[0mStringType\u001b[0m\u001b[0;34m(\u001b[0m\u001b[0;34m)\u001b[0m\u001b[0;34m)\u001b[0m\u001b[0;34m,\u001b[0m\u001b[0;31m\\\u001b[0m\u001b[0;34m\u001b[0m\u001b[0;34m\u001b[0m\u001b[0m\n\u001b[1;32m     13\u001b[0m         \u001b[0mStructField\u001b[0m\u001b[0;34m(\u001b[0m\u001b[0;34m\"longitude\"\u001b[0m\u001b[0;34m,\u001b[0m \u001b[0mStringType\u001b[0m\u001b[0;34m(\u001b[0m\u001b[0;34m)\u001b[0m\u001b[0;34m)\u001b[0m\u001b[0;34m,\u001b[0m\u001b[0;31m\\\u001b[0m\u001b[0;34m\u001b[0m\u001b[0;34m\u001b[0m\u001b[0m\n\u001b[0;32m---> 14\u001b[0;31m         \u001b[0mStructField\u001b[0m\u001b[0;34m(\u001b[0m\u001b[0;34m\"hora_coleta\"\u001b[0m\u001b[0;34m,\u001b[0m \u001b[0mTimeType\u001b[0m\u001b[0;34m(\u001b[0m\u001b[0;34m)\u001b[0m\u001b[0;34m)\u001b[0m\u001b[0;34m,\u001b[0m\u001b[0;31m\\\u001b[0m\u001b[0;34m\u001b[0m\u001b[0;34m\u001b[0m\u001b[0m\n\u001b[0m\u001b[1;32m     15\u001b[0m         \u001b[0mStructField\u001b[0m\u001b[0;34m(\u001b[0m\u001b[0;34m\"hora_entrega\"\u001b[0m\u001b[0;34m,\u001b[0m \u001b[0mTimeType\u001b[0m\u001b[0;34m(\u001b[0m\u001b[0;34m)\u001b[0m\u001b[0;34m)\u001b[0m\u001b[0;34m,\u001b[0m\u001b[0;31m\\\u001b[0m\u001b[0;34m\u001b[0m\u001b[0;34m\u001b[0m\u001b[0m\n\u001b[1;32m     16\u001b[0m         \u001b[0mStructField\u001b[0m\u001b[0;34m(\u001b[0m\u001b[0;34m\"local_coleta\"\u001b[0m\u001b[0;34m,\u001b[0m \u001b[0mStringType\u001b[0m\u001b[0;34m(\u001b[0m\u001b[0;34m)\u001b[0m\u001b[0;34m)\u001b[0m\u001b[0;34m,\u001b[0m\u001b[0;31m\\\u001b[0m\u001b[0;34m\u001b[0m\u001b[0;34m\u001b[0m\u001b[0m\n",
      "\u001b[0;31mNameError\u001b[0m: name 'TimeType' is not defined"
     ]
    }
   ],
   "source": [
    "import findspark\n",
    "findspark.init('/opt/spark-2.4.4/')\n",
    "import pyspark\n",
    "from pyspark.sql import SparkSession\n",
    "from pyspark.sql.types import StructType, StructField\n",
    "from pyspark.sql.types import DoubleType, IntegerType, StringType\n",
    "schema = StructType([\\\n",
    "        StructField(\"cidade\", StringType()),\\\n",
    "        StructField(\"idsensor\", IntegerType()),\\\n",
    "        StructField(\"tipo_sangue\", StringType()),\\\n",
    "        StructField(\"data_coleta\", StringType()),\\\n",
    "        StructField(\"latitude\", StringType()),\\\n",
    "        StructField(\"longitude\", StringType()),\\\n",
    "        StructField(\"hora_coleta\", StringType()),\\\n",
    "        StructField(\"hora_entrega\", StringType()),\\\n",
    "        StructField(\"local_coleta\", StringType()),\\\n",
    "        StructField(\"local_entrega\", StringType()),\\\n",
    "        StructField(\"cpf_consumidor\", StringType()),\\\n",
    "        StructField(\"transportador\", StringType()),\\\n",
    "        StructField(\"testado\", StringType()),\\\n",
    "        StructField(\"temperatura\", StringType()),\\\n",
    "        StructField(\"caixa\", StringType()),\\\n",
    "        StructField(\"geladeira\", StringType())\\\n",
    "    ])\n",
    "    "
   ]
  },
  {
   "cell_type": "code",
   "execution_count": 37,
   "metadata": {},
   "outputs": [
    {
     "name": "stdout",
     "output_type": "stream",
     "text": [
      "+---------+---------+\n",
      "|    caixa|geladeira|\n",
      "+---------+---------+\n",
      "|Fortaleza|        1|\n",
      "|  Caucaia|        2|\n",
      "|Maracanau|        3|\n",
      "|Fortaleza|        4|\n",
      "|  Caucaia|        5|\n",
      "|Maracanau|        6|\n",
      "|Fortaleza|        7|\n",
      "|  Caucaia|        8|\n",
      "|Maracanau|        9|\n",
      "|Fortaleza|       10|\n",
      "|  Caucaia|       11|\n",
      "|Maracanau|       12|\n",
      "|Fortaleza|       13|\n",
      "|  Caucaia|       14|\n",
      "|Maracanau|       15|\n",
      "|Fortaleza|       16|\n",
      "|  Caucaia|       17|\n",
      "|Maracanau|       18|\n",
      "|Fortaleza|       19|\n",
      "|  Caucaia|       20|\n",
      "+---------+---------+\n",
      "only showing top 20 rows\n",
      "\n"
     ]
    }
   ],
   "source": [
    "from pyspark.sql import SparkSession  \n",
    "scSpark = SparkSession \\\n",
    "    .builder \\\n",
    "    .appName(\"Python Spark SQL LER CSV HEMOCE\") \\\n",
    "    .config(\"spark.some.config.option\", \"some-value\") \\\n",
    "    .getOrCreate()\n",
    "data_file = '/home/jr/Documents/hemoce/hemoce*.csv'\n",
    "sdfData = scSpark.read.csv(data_file, header=True, sep=\",\", schema=schema)\n",
    "sdfData.show()\n"
   ]
  },
  {
   "cell_type": "code",
   "execution_count": null,
   "metadata": {},
   "outputs": [],
   "source": []
  },
  {
   "cell_type": "code",
   "execution_count": null,
   "metadata": {},
   "outputs": [],
   "source": []
  }
 ],
 "metadata": {
  "kernelspec": {
   "display_name": "Python 3",
   "language": "python",
   "name": "python3"
  },
  "language_info": {
   "codemirror_mode": {
    "name": "ipython",
    "version": 3
   },
   "file_extension": ".py",
   "mimetype": "text/x-python",
   "name": "python",
   "nbconvert_exporter": "python",
   "pygments_lexer": "ipython3",
   "version": "3.7.3"
  }
 },
 "nbformat": 4,
 "nbformat_minor": 2
}
