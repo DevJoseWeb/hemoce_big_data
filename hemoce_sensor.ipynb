{
 "cells": [
  {
   "cell_type": "code",
   "execution_count": 1,
   "metadata": {},
   "outputs": [],
   "source": [
    "import findspark\n",
    "findspark.init('/opt/spark-2.4.4/')\n",
    "import pyspark\n",
    "from pyspark.sql.types import StructType, StructField\n",
    "from pyspark.sql.types import DoubleType, IntegerType, StringType\n",
    "from pyspark.sql import SparkSession"
   ]
  },
  {
   "cell_type": "code",
   "execution_count": 2,
   "metadata": {},
   "outputs": [
    {
     "name": "stdout",
     "output_type": "stream",
     "text": [
      "+---------+--------+-----------+----------------+-----------+--------+---------+-----------+------------+-------------------+-------------+-------------+--------------+-------------+-------+-----------+-----+---------+\n",
      "|   cidade|idsensor|tipo_sangue|            nota|data_coleta|latitude|longitude|hora_coleta|hora_entrega|       local_coleta|local_entrega|   cfp_doador|cpf_consumidor|transportador|testado|temperatura|caixa|geladeira|\n",
      "+---------+--------+-----------+----------------+-----------+--------+---------+-----------+------------+-------------------+-------------+-------------+--------------+-------------+-------+-----------+-----+---------+\n",
      "|Fortaleza|       1|          A|              10| 2018-12-31|  123456|    98765|03:00:00 AM| 04:00:00 AM|                HGF|       HEMOCE| 9945JJKAHA95| KK8988SFGJKL4|CARRO 0383344|    SIM|         12|  100|      A22|\n",
      "|  Caucaia|       2|          A|              10| 2018-12-31|  123457|    98766|03:00:00 AM| 04:00:00 AM|HOSPITAL DO CORACAO|       HEMOCE| 9945JJKAHA96| KK8988SFGJKL5|CARRO 0383345|    SIM|         13|  101|      A23|\n",
      "|Maracanau|       3|          A|              10| 2018-12-31|  123458|    98767|03:00:00 AM| 04:00:00 AM|                HGF|       HEMOCE| 9945JJKAHA97| KK8988SFGJKL6|CARRO 0383346|    SIM|         14|  102|      A24|\n",
      "|Fortaleza|       4|          A|              10| 2018-12-31|  123459|    98768|03:00:00 AM| 04:00:00 AM|HOSPITAL DO CORACAO|       HEMOCE| 9945JJKAHA98| KK8988SFGJKL7|CARRO 0383347|    SIM|         15|  103|      A25|\n",
      "|  Caucaia|       5|          A|              10| 2018-12-31|  123460|    98769|03:00:00 AM| 04:00:00 AM|                HGF|       HEMOCE| 9945JJKAHA99| KK8988SFGJKL8|CARRO 0383348|    SIM|         16|  104|      A26|\n",
      "|Maracanau|       6|          A|5.70257633407159| 2018-12-31|  123461|    98770|03:00:00 AM| 04:00:00 AM|HOSPITAL DO CORACAO|       HEMOCE|9945JJKAHA100| KK8988SFGJKL9|CARRO 0383349|    SIM|         17|  105|      A27|\n",
      "|Fortaleza|       7|          A|              10| 2018-12-31|  123462|    98771|03:00:00 AM| 04:00:00 AM|                HGF|       HEMOCE|9945JJKAHA101|KK8988SFGJKL10|CARRO 0383350|    SIM|         18|  106|      A28|\n",
      "|  Caucaia|       8|          A|              10| 2018-12-31|  123463|    98772|03:00:00 AM| 04:00:00 AM|HOSPITAL DO CORACAO|       HEMOCE|9945JJKAHA102|KK8988SFGJKL11|CARRO 0383351|    SIM|         19|  107|      A29|\n",
      "|Maracanau|       9|          A|              10| 2018-12-31|  123464|    98773|03:00:00 AM| 04:00:00 AM|                HGF|       HEMOCE|9945JJKAHA103|KK8988SFGJKL12|CARRO 0383352|    SIM|         20|  108|      A30|\n",
      "|Fortaleza|      10|          A|              10| 2018-12-31|  123465|    98774|03:00:00 AM| 04:00:00 AM|HOSPITAL DO CORACAO|       HEMOCE|9945JJKAHA104|KK8988SFGJKL13|CARRO 0383353|    SIM|         21|  109|      A31|\n",
      "|  Caucaia|      11|          A|8.11523635625888| 2018-12-31|  123466|    98775|03:00:00 AM| 04:00:00 AM|                HGF|       HEMOCE|9945JJKAHA105|KK8988SFGJKL14|CARRO 0383354|    SIM|         22|  110|      A32|\n",
      "|Maracanau|      12|          A|              10| 2018-12-31|  123467|    98776|03:00:00 AM| 04:00:00 AM|HOSPITAL DO CORACAO|       HEMOCE|9945JJKAHA106|KK8988SFGJKL15|CARRO 0383355|    SIM|         23|  111|      A33|\n",
      "|Fortaleza|      13|          A|              10| 2018-12-31|  123468|    98777|03:00:00 AM| 04:00:00 AM|                HGF|       HEMOCE|9945JJKAHA107|KK8988SFGJKL16|CARRO 0383356|    SIM|         24|  112|      A34|\n",
      "|  Caucaia|      14|          A|              10| 2018-12-31|  123469|    98778|03:00:00 AM| 04:00:00 AM|HOSPITAL DO CORACAO|       HEMOCE|9945JJKAHA108|KK8988SFGJKL17|CARRO 0383357|    SIM|         25|  113|      A35|\n",
      "|Maracanau|      15|          A|              10| 2018-12-31|  123470|    98779|03:00:00 AM| 04:00:00 AM|                HGF|       HEMOCE|9945JJKAHA109|KK8988SFGJKL18|CARRO 0383358|    SIM|         26|  114|      A36|\n",
      "|Fortaleza|      16|          A|              10| 2018-12-31|  123471|    98780|03:00:00 AM| 04:00:00 AM|HOSPITAL DO CORACAO|       HEMOCE|9945JJKAHA110|KK8988SFGJKL19|CARRO 0383359|    SIM|         27|  115|      A37|\n",
      "|  Caucaia|      17|          A|3.76043462215807| 2018-12-31|  123472|    98781|03:00:00 AM| 04:00:00 AM|                HGF|       HEMOCE|9945JJKAHA111|KK8988SFGJKL20|CARRO 0383360|    SIM|         28|  116|      A38|\n",
      "|Maracanau|      18|          A|              10| 2018-12-31|  123473|    98782|03:00:00 AM| 04:00:00 AM|HOSPITAL DO CORACAO|       HEMOCE|9945JJKAHA112|KK8988SFGJKL21|CARRO 0383361|    SIM|         12|  117|      A39|\n",
      "|Fortaleza|      19|          A|              10| 2018-12-31|  123474|    98783|03:00:00 AM| 04:00:00 AM|                HGF|       HEMOCE|9945JJKAHA113|KK8988SFGJKL22|CARRO 0383362|    SIM|         13|  118|      A40|\n",
      "|  Caucaia|      20|          A|              10| 2018-12-31|  123475|    98784|03:00:00 AM| 04:00:00 AM|HOSPITAL DO CORACAO|       HEMOCE|9945JJKAHA114|KK8988SFGJKL23|CARRO 0383363|    SIM|         14|  119|      A41|\n",
      "+---------+--------+-----------+----------------+-----------+--------+---------+-----------+------------+-------------------+-------------+-------------+--------------+-------------+-------+-----------+-----+---------+\n",
      "only showing top 20 rows\n",
      "\n"
     ]
    }
   ],
   "source": [
    "from pyspark.sql import SparkSession  \n",
    "scSpark = SparkSession \\\n",
    "    .builder \\\n",
    "    .appName(\"Python Spark SQL LER CSV HEMOCE\") \\\n",
    "    .config(\"spark.some.config.option\", \"some-value\") \\\n",
    "    .getOrCreate()\n",
    "data_file = '/home/jr/Documents/hemoce/hemoce*.csv'\n",
    "sdfData = scSpark.read.csv(data_file, header=True, sep=\",\")\n",
    "sdfData.show()\n"
   ]
  },
  {
   "cell_type": "code",
   "execution_count": null,
   "metadata": {},
   "outputs": [],
   "source": []
  }
 ],
 "metadata": {
  "kernelspec": {
   "display_name": "Python 3",
   "language": "python",
   "name": "python3"
  },
  "language_info": {
   "codemirror_mode": {
    "name": "ipython",
    "version": 3
   },
   "file_extension": ".py",
   "mimetype": "text/x-python",
   "name": "python",
   "nbconvert_exporter": "python",
   "pygments_lexer": "ipython3",
   "version": "3.7.3"
  }
 },
 "nbformat": 4,
 "nbformat_minor": 2
}
